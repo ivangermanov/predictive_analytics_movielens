{
 "cells": [
  {
   "cell_type": "code",
   "execution_count": 1,
   "metadata": {},
   "outputs": [],
   "source": [
    "# Importing standard libraries\n",
    "import pandas as pd\n",
    "import numpy as np\n",
    "import matplotlib\n",
    "import matplotlib.pyplot as plt\n",
    "from sklearn.preprocessing import MultiLabelBinarizer\n",
    "%matplotlib inline"
   ]
  },
  {
   "cell_type": "code",
   "execution_count": 2,
   "metadata": {},
   "outputs": [
    {
     "data": {
      "text/html": [
       "<div>\n",
       "<style scoped>\n",
       "    .dataframe tbody tr th:only-of-type {\n",
       "        vertical-align: middle;\n",
       "    }\n",
       "\n",
       "    .dataframe tbody tr th {\n",
       "        vertical-align: top;\n",
       "    }\n",
       "\n",
       "    .dataframe thead th {\n",
       "        text-align: right;\n",
       "    }\n",
       "</style>\n",
       "<table border=\"1\" class=\"dataframe\">\n",
       "  <thead>\n",
       "    <tr style=\"text-align: right;\">\n",
       "      <th></th>\n",
       "      <th>user_id</th>\n",
       "      <th>movie_id</th>\n",
       "      <th>rating</th>\n",
       "      <th>unix_timestamp</th>\n",
       "    </tr>\n",
       "  </thead>\n",
       "  <tbody>\n",
       "    <tr>\n",
       "      <th>0</th>\n",
       "      <td>196</td>\n",
       "      <td>242</td>\n",
       "      <td>3</td>\n",
       "      <td>881250949</td>\n",
       "    </tr>\n",
       "    <tr>\n",
       "      <th>1</th>\n",
       "      <td>186</td>\n",
       "      <td>302</td>\n",
       "      <td>3</td>\n",
       "      <td>891717742</td>\n",
       "    </tr>\n",
       "    <tr>\n",
       "      <th>2</th>\n",
       "      <td>22</td>\n",
       "      <td>377</td>\n",
       "      <td>1</td>\n",
       "      <td>878887116</td>\n",
       "    </tr>\n",
       "    <tr>\n",
       "      <th>3</th>\n",
       "      <td>244</td>\n",
       "      <td>51</td>\n",
       "      <td>2</td>\n",
       "      <td>880606923</td>\n",
       "    </tr>\n",
       "    <tr>\n",
       "      <th>4</th>\n",
       "      <td>166</td>\n",
       "      <td>346</td>\n",
       "      <td>1</td>\n",
       "      <td>886397596</td>\n",
       "    </tr>\n",
       "  </tbody>\n",
       "</table>\n",
       "</div>"
      ],
      "text/plain": [
       "   user_id  movie_id  rating  unix_timestamp\n",
       "0      196       242       3       881250949\n",
       "1      186       302       3       891717742\n",
       "2       22       377       1       878887116\n",
       "3      244        51       2       880606923\n",
       "4      166       346       1       886397596"
      ]
     },
     "execution_count": 2,
     "metadata": {},
     "output_type": "execute_result"
    }
   ],
   "source": [
    "# Importing ratings file\n",
    "ratings = pd.read_csv('ratings.csv')\n",
    "ratings.head()"
   ]
  },
  {
   "cell_type": "code",
   "execution_count": 3,
   "metadata": {},
   "outputs": [],
   "source": [
    "users = pd.read_csv('users.csv')\n",
    "users.head()\n",
    "# One-hot encode gender\n",
    "mlb = MultiLabelBinarizer()\n",
    "users = users.join(pd.DataFrame(mlb.fit_transform(users.pop('sex')),\n",
    "                          columns=mlb.classes_,\n",
    "                          index=users.index))"
   ]
  },
  {
   "cell_type": "code",
   "execution_count": 4,
   "metadata": {},
   "outputs": [],
   "source": [
    "items = pd.read_csv('items.csv')\n",
    "items.head()\n",
    "items.drop(['video_release_date', 'imdb_url'], axis=1, inplace=True)\n",
    "items.dropna(inplace=True)"
   ]
  },
  {
   "cell_type": "code",
   "execution_count": 5,
   "metadata": {
    "scrolled": true
   },
   "outputs": [
    {
     "data": {
      "text/html": [
       "<div>\n",
       "<style scoped>\n",
       "    .dataframe tbody tr th:only-of-type {\n",
       "        vertical-align: middle;\n",
       "    }\n",
       "\n",
       "    .dataframe tbody tr th {\n",
       "        vertical-align: top;\n",
       "    }\n",
       "\n",
       "    .dataframe thead th {\n",
       "        text-align: right;\n",
       "    }\n",
       "</style>\n",
       "<table border=\"1\" class=\"dataframe\">\n",
       "  <thead>\n",
       "    <tr style=\"text-align: right;\">\n",
       "      <th></th>\n",
       "      <th>movie_id</th>\n",
       "      <th>number_of_ratings</th>\n",
       "    </tr>\n",
       "  </thead>\n",
       "  <tbody>\n",
       "    <tr>\n",
       "      <th>0</th>\n",
       "      <td>1</td>\n",
       "      <td>452</td>\n",
       "    </tr>\n",
       "    <tr>\n",
       "      <th>1</th>\n",
       "      <td>2</td>\n",
       "      <td>131</td>\n",
       "    </tr>\n",
       "    <tr>\n",
       "      <th>2</th>\n",
       "      <td>3</td>\n",
       "      <td>90</td>\n",
       "    </tr>\n",
       "    <tr>\n",
       "      <th>3</th>\n",
       "      <td>4</td>\n",
       "      <td>209</td>\n",
       "    </tr>\n",
       "    <tr>\n",
       "      <th>4</th>\n",
       "      <td>5</td>\n",
       "      <td>86</td>\n",
       "    </tr>\n",
       "    <tr>\n",
       "      <th>5</th>\n",
       "      <td>7</td>\n",
       "      <td>392</td>\n",
       "    </tr>\n",
       "    <tr>\n",
       "      <th>6</th>\n",
       "      <td>8</td>\n",
       "      <td>219</td>\n",
       "    </tr>\n",
       "    <tr>\n",
       "      <th>7</th>\n",
       "      <td>9</td>\n",
       "      <td>299</td>\n",
       "    </tr>\n",
       "    <tr>\n",
       "      <th>8</th>\n",
       "      <td>10</td>\n",
       "      <td>89</td>\n",
       "    </tr>\n",
       "    <tr>\n",
       "      <th>9</th>\n",
       "      <td>11</td>\n",
       "      <td>236</td>\n",
       "    </tr>\n",
       "    <tr>\n",
       "      <th>10</th>\n",
       "      <td>12</td>\n",
       "      <td>267</td>\n",
       "    </tr>\n",
       "    <tr>\n",
       "      <th>11</th>\n",
       "      <td>13</td>\n",
       "      <td>184</td>\n",
       "    </tr>\n",
       "    <tr>\n",
       "      <th>12</th>\n",
       "      <td>14</td>\n",
       "      <td>183</td>\n",
       "    </tr>\n",
       "    <tr>\n",
       "      <th>13</th>\n",
       "      <td>15</td>\n",
       "      <td>293</td>\n",
       "    </tr>\n",
       "    <tr>\n",
       "      <th>14</th>\n",
       "      <td>17</td>\n",
       "      <td>92</td>\n",
       "    </tr>\n",
       "    <tr>\n",
       "      <th>15</th>\n",
       "      <td>19</td>\n",
       "      <td>69</td>\n",
       "    </tr>\n",
       "    <tr>\n",
       "      <th>16</th>\n",
       "      <td>20</td>\n",
       "      <td>72</td>\n",
       "    </tr>\n",
       "    <tr>\n",
       "      <th>17</th>\n",
       "      <td>21</td>\n",
       "      <td>84</td>\n",
       "    </tr>\n",
       "    <tr>\n",
       "      <th>18</th>\n",
       "      <td>22</td>\n",
       "      <td>297</td>\n",
       "    </tr>\n",
       "    <tr>\n",
       "      <th>19</th>\n",
       "      <td>23</td>\n",
       "      <td>182</td>\n",
       "    </tr>\n",
       "  </tbody>\n",
       "</table>\n",
       "</div>"
      ],
      "text/plain": [
       "    movie_id  number_of_ratings\n",
       "0          1                452\n",
       "1          2                131\n",
       "2          3                 90\n",
       "3          4                209\n",
       "4          5                 86\n",
       "5          7                392\n",
       "6          8                219\n",
       "7          9                299\n",
       "8         10                 89\n",
       "9         11                236\n",
       "10        12                267\n",
       "11        13                184\n",
       "12        14                183\n",
       "13        15                293\n",
       "14        17                 92\n",
       "15        19                 69\n",
       "16        20                 72\n",
       "17        21                 84\n",
       "18        22                297\n",
       "19        23                182"
      ]
     },
     "execution_count": 5,
     "metadata": {},
     "output_type": "execute_result"
    }
   ],
   "source": [
    "# Create a number of ratings column to see how many ratings each movie has\n",
    "ratings_over_fifty = pd.DataFrame(ratings.groupby('movie_id')['rating'].count())\n",
    "# Rename the column to number_of_ratings\n",
    "ratings_over_fifty.columns = ['number_of_ratings']\n",
    "# Get only the movies that have more than 50 ratings\n",
    "ratings_over_fifty = ratings_over_fifty[ratings_over_fifty['number_of_ratings']>50]\n",
    "# Reset index so that movie_id is not index, put an artificial index value\n",
    "ratings_over_fifty.reset_index(inplace=True)\n",
    "# See the movies with over 50 ratings\n",
    "ratings_over_fifty.head(20)"
   ]
  },
  {
   "cell_type": "code",
   "execution_count": 6,
   "metadata": {},
   "outputs": [],
   "source": [
    "# Define function to check if a movie in the main dataset has over 50 ratings or not\n",
    "def rows_above_under_fifty(row):\n",
    "    if np.any(row == ratings_over_fifty['movie_id']):\n",
    "        return True\n",
    "    return False"
   ]
  },
  {
   "cell_type": "code",
   "execution_count": 7,
   "metadata": {},
   "outputs": [
    {
     "data": {
      "text/plain": [
       "0     True\n",
       "1     True\n",
       "2    False\n",
       "3     True\n",
       "4     True\n",
       "Name: movie_id, dtype: bool"
      ]
     },
     "execution_count": 7,
     "metadata": {},
     "output_type": "execute_result"
    }
   ],
   "source": [
    "# Apply that function on the movies column, assigns the True or False values in a new Series object\n",
    "series_above_under_fifty = ratings['movie_id'].apply(rows_above_under_fifty)\n",
    "# It can be seen that the 1st, 2nd movies have over 50 ratings, whereas the 3rd one does not\n",
    "# 1st corresponds to movie_id 242\n",
    "# 2nd corresponds to movie_id 302\n",
    "# 3rd corresponds to movie_id 377\n",
    "series_above_under_fifty.head()"
   ]
  },
  {
   "cell_type": "code",
   "execution_count": 8,
   "metadata": {},
   "outputs": [
    {
     "name": "stdout",
     "output_type": "stream",
     "text": [
      "     movie_id  number_of_ratings\n",
      "209       242                117\n",
      "     movie_id  number_of_ratings\n",
      "257       302                297\n",
      "Empty DataFrame\n",
      "Columns: [movie_id, number_of_ratings]\n",
      "Index: []\n"
     ]
    }
   ],
   "source": [
    "# Let's see if that is the case\n",
    "# Prints out that it has 117 ratings\n",
    "print(ratings_over_fifty[ratings_over_fifty['movie_id'] == 242])\n",
    "# Prints out that is has 297 ratings\n",
    "print(ratings_over_fifty[ratings_over_fifty['movie_id'] == 302])\n",
    "# Returns empty dataframe => it is not in the ratings_over_fifty list => it does not have over 50 ratings\n",
    "print(ratings_over_fifty[ratings_over_fifty['movie_id'] == 377])"
   ]
  },
  {
   "cell_type": "code",
   "execution_count": 9,
   "metadata": {},
   "outputs": [
    {
     "data": {
      "text/html": [
       "<div>\n",
       "<style scoped>\n",
       "    .dataframe tbody tr th:only-of-type {\n",
       "        vertical-align: middle;\n",
       "    }\n",
       "\n",
       "    .dataframe tbody tr th {\n",
       "        vertical-align: top;\n",
       "    }\n",
       "\n",
       "    .dataframe thead th {\n",
       "        text-align: right;\n",
       "    }\n",
       "</style>\n",
       "<table border=\"1\" class=\"dataframe\">\n",
       "  <thead>\n",
       "    <tr style=\"text-align: right;\">\n",
       "      <th></th>\n",
       "      <th>user_id</th>\n",
       "      <th>movie_id</th>\n",
       "      <th>rating</th>\n",
       "      <th>unix_timestamp</th>\n",
       "    </tr>\n",
       "  </thead>\n",
       "  <tbody>\n",
       "    <tr>\n",
       "      <th>0</th>\n",
       "      <td>196</td>\n",
       "      <td>242</td>\n",
       "      <td>3</td>\n",
       "      <td>881250949</td>\n",
       "    </tr>\n",
       "    <tr>\n",
       "      <th>1</th>\n",
       "      <td>186</td>\n",
       "      <td>302</td>\n",
       "      <td>3</td>\n",
       "      <td>891717742</td>\n",
       "    </tr>\n",
       "    <tr>\n",
       "      <th>3</th>\n",
       "      <td>244</td>\n",
       "      <td>51</td>\n",
       "      <td>2</td>\n",
       "      <td>880606923</td>\n",
       "    </tr>\n",
       "    <tr>\n",
       "      <th>4</th>\n",
       "      <td>166</td>\n",
       "      <td>346</td>\n",
       "      <td>1</td>\n",
       "      <td>886397596</td>\n",
       "    </tr>\n",
       "    <tr>\n",
       "      <th>5</th>\n",
       "      <td>298</td>\n",
       "      <td>474</td>\n",
       "      <td>4</td>\n",
       "      <td>884182806</td>\n",
       "    </tr>\n",
       "  </tbody>\n",
       "</table>\n",
       "</div>"
      ],
      "text/plain": [
       "   user_id  movie_id  rating  unix_timestamp\n",
       "0      196       242       3       881250949\n",
       "1      186       302       3       891717742\n",
       "3      244        51       2       880606923\n",
       "4      166       346       1       886397596\n",
       "5      298       474       4       884182806"
      ]
     },
     "execution_count": 9,
     "metadata": {},
     "output_type": "execute_result"
    }
   ],
   "source": [
    "# Filter ratings dataset so that only the movies with above 50 rating remain\n",
    "ratings_filtered = ratings[series_above_under_fifty]\n",
    "ratings_filtered.head()"
   ]
  },
  {
   "cell_type": "code",
   "execution_count": 10,
   "metadata": {},
   "outputs": [
    {
     "data": {
      "text/html": [
       "<div>\n",
       "<style scoped>\n",
       "    .dataframe tbody tr th:only-of-type {\n",
       "        vertical-align: middle;\n",
       "    }\n",
       "\n",
       "    .dataframe tbody tr th {\n",
       "        vertical-align: top;\n",
       "    }\n",
       "\n",
       "    .dataframe thead th {\n",
       "        text-align: right;\n",
       "    }\n",
       "</style>\n",
       "<table border=\"1\" class=\"dataframe\">\n",
       "  <thead>\n",
       "    <tr style=\"text-align: right;\">\n",
       "      <th></th>\n",
       "      <th>user_id</th>\n",
       "      <th>age</th>\n",
       "      <th>occupation</th>\n",
       "      <th>zip_code</th>\n",
       "      <th>F</th>\n",
       "      <th>M</th>\n",
       "      <th>movie_id</th>\n",
       "      <th>title</th>\n",
       "      <th>release_date</th>\n",
       "      <th>unknown</th>\n",
       "      <th>...</th>\n",
       "      <th>Horror</th>\n",
       "      <th>Musical</th>\n",
       "      <th>Mystery</th>\n",
       "      <th>Romance</th>\n",
       "      <th>Sci-Fi</th>\n",
       "      <th>Thriller</th>\n",
       "      <th>War</th>\n",
       "      <th>Western</th>\n",
       "      <th>rating</th>\n",
       "      <th>unix_timestamp</th>\n",
       "    </tr>\n",
       "  </thead>\n",
       "  <tbody>\n",
       "    <tr>\n",
       "      <th>0</th>\n",
       "      <td>1</td>\n",
       "      <td>24</td>\n",
       "      <td>technician</td>\n",
       "      <td>85711</td>\n",
       "      <td>0</td>\n",
       "      <td>1</td>\n",
       "      <td>1</td>\n",
       "      <td>Toy Story (1995)</td>\n",
       "      <td>01-Jan-1995</td>\n",
       "      <td>0</td>\n",
       "      <td>...</td>\n",
       "      <td>0</td>\n",
       "      <td>0</td>\n",
       "      <td>0</td>\n",
       "      <td>0</td>\n",
       "      <td>0</td>\n",
       "      <td>0</td>\n",
       "      <td>0</td>\n",
       "      <td>0</td>\n",
       "      <td>5</td>\n",
       "      <td>874965758</td>\n",
       "    </tr>\n",
       "    <tr>\n",
       "      <th>1</th>\n",
       "      <td>1</td>\n",
       "      <td>24</td>\n",
       "      <td>technician</td>\n",
       "      <td>85711</td>\n",
       "      <td>0</td>\n",
       "      <td>1</td>\n",
       "      <td>2</td>\n",
       "      <td>GoldenEye (1995)</td>\n",
       "      <td>01-Jan-1995</td>\n",
       "      <td>0</td>\n",
       "      <td>...</td>\n",
       "      <td>0</td>\n",
       "      <td>0</td>\n",
       "      <td>0</td>\n",
       "      <td>0</td>\n",
       "      <td>0</td>\n",
       "      <td>1</td>\n",
       "      <td>0</td>\n",
       "      <td>0</td>\n",
       "      <td>3</td>\n",
       "      <td>876893171</td>\n",
       "    </tr>\n",
       "    <tr>\n",
       "      <th>2</th>\n",
       "      <td>1</td>\n",
       "      <td>24</td>\n",
       "      <td>technician</td>\n",
       "      <td>85711</td>\n",
       "      <td>0</td>\n",
       "      <td>1</td>\n",
       "      <td>3</td>\n",
       "      <td>Four Rooms (1995)</td>\n",
       "      <td>01-Jan-1995</td>\n",
       "      <td>0</td>\n",
       "      <td>...</td>\n",
       "      <td>0</td>\n",
       "      <td>0</td>\n",
       "      <td>0</td>\n",
       "      <td>0</td>\n",
       "      <td>0</td>\n",
       "      <td>1</td>\n",
       "      <td>0</td>\n",
       "      <td>0</td>\n",
       "      <td>4</td>\n",
       "      <td>878542960</td>\n",
       "    </tr>\n",
       "    <tr>\n",
       "      <th>3</th>\n",
       "      <td>1</td>\n",
       "      <td>24</td>\n",
       "      <td>technician</td>\n",
       "      <td>85711</td>\n",
       "      <td>0</td>\n",
       "      <td>1</td>\n",
       "      <td>4</td>\n",
       "      <td>Get Shorty (1995)</td>\n",
       "      <td>01-Jan-1995</td>\n",
       "      <td>0</td>\n",
       "      <td>...</td>\n",
       "      <td>0</td>\n",
       "      <td>0</td>\n",
       "      <td>0</td>\n",
       "      <td>0</td>\n",
       "      <td>0</td>\n",
       "      <td>0</td>\n",
       "      <td>0</td>\n",
       "      <td>0</td>\n",
       "      <td>3</td>\n",
       "      <td>876893119</td>\n",
       "    </tr>\n",
       "    <tr>\n",
       "      <th>4</th>\n",
       "      <td>1</td>\n",
       "      <td>24</td>\n",
       "      <td>technician</td>\n",
       "      <td>85711</td>\n",
       "      <td>0</td>\n",
       "      <td>1</td>\n",
       "      <td>5</td>\n",
       "      <td>Copycat (1995)</td>\n",
       "      <td>01-Jan-1995</td>\n",
       "      <td>0</td>\n",
       "      <td>...</td>\n",
       "      <td>0</td>\n",
       "      <td>0</td>\n",
       "      <td>0</td>\n",
       "      <td>0</td>\n",
       "      <td>0</td>\n",
       "      <td>1</td>\n",
       "      <td>0</td>\n",
       "      <td>0</td>\n",
       "      <td>3</td>\n",
       "      <td>889751712</td>\n",
       "    </tr>\n",
       "  </tbody>\n",
       "</table>\n",
       "<p>5 rows × 30 columns</p>\n",
       "</div>"
      ],
      "text/plain": [
       "   user_id  age  occupation zip_code  F  M  movie_id              title  \\\n",
       "0        1   24  technician    85711  0  1         1   Toy Story (1995)   \n",
       "1        1   24  technician    85711  0  1         2   GoldenEye (1995)   \n",
       "2        1   24  technician    85711  0  1         3  Four Rooms (1995)   \n",
       "3        1   24  technician    85711  0  1         4  Get Shorty (1995)   \n",
       "4        1   24  technician    85711  0  1         5     Copycat (1995)   \n",
       "\n",
       "  release_date  unknown       ...        Horror  Musical  Mystery  Romance  \\\n",
       "0  01-Jan-1995        0       ...             0        0        0        0   \n",
       "1  01-Jan-1995        0       ...             0        0        0        0   \n",
       "2  01-Jan-1995        0       ...             0        0        0        0   \n",
       "3  01-Jan-1995        0       ...             0        0        0        0   \n",
       "4  01-Jan-1995        0       ...             0        0        0        0   \n",
       "\n",
       "   Sci-Fi  Thriller  War  Western  rating  unix_timestamp  \n",
       "0       0         0    0        0       5       874965758  \n",
       "1       0         1    0        0       3       876893171  \n",
       "2       0         1    0        0       4       878542960  \n",
       "3       0         0    0        0       3       876893119  \n",
       "4       0         1    0        0       3       889751712  \n",
       "\n",
       "[5 rows x 30 columns]"
      ]
     },
     "execution_count": 10,
     "metadata": {},
     "output_type": "execute_result"
    }
   ],
   "source": [
    "# Merge the 3 dataframes to get all features in just 1 dataframe\n",
    "merged = pd.merge(users, pd.merge(items, ratings, on='movie_id'), on='user_id')\n",
    "# Merge the 3 dataframes to get all features in just 1 dataframe, where the min. number of ratings is 50\n",
    "merged_filtered = pd.merge(users, pd.merge(items, ratings_filtered, on='movie_id'), on='user_id')\n",
    "merged.head()"
   ]
  },
  {
   "cell_type": "code",
   "execution_count": 11,
   "metadata": {},
   "outputs": [
    {
     "name": "stdout",
     "output_type": "stream",
     "text": [
      "Filtered, movie_id = 242, Num of rows = 117\n",
      "Filtered, movie_id = 377, Num of rows = 0\n",
      "Unfiltered, movie_id = 377, Num of rows = 13\n"
     ]
    }
   ],
   "source": [
    "# It can be seen that the movie with id 242 is in the filtered dataset\n",
    "print('Filtered, movie_id = 242, Num of rows = ' + str(len(merged_filtered[merged_filtered['movie_id'] == 242])))\n",
    "# It can be seen that the movie with id 377 is not in the filtered dataset anymore\n",
    "print('Filtered, movie_id = 377, Num of rows = ' + str(len(merged_filtered[merged_filtered['movie_id'] == 377])))\n",
    "# However, movie with id 377 is still in the unfiltered dataset\n",
    "print('Unfiltered, movie_id = 377, Num of rows = ' + str(len(merged[merged['movie_id'] == 377])))"
   ]
  },
  {
   "cell_type": "code",
   "execution_count": 12,
   "metadata": {},
   "outputs": [],
   "source": [
    "# Split the ratings dataframe into train and test set\n",
    "from sklearn.model_selection import train_test_split\n",
    "\n",
    "# Model with the whole dataset\n",
    "ratings_train, ratings_test = train_test_split(merged, test_size=0.10)\n",
    "# Model with only the movies that have above 50 rating\n",
    "#ratings_train, ratings_test = train_test_split(merged_filtered, test_size=0.10)"
   ]
  },
  {
   "cell_type": "code",
   "execution_count": 13,
   "metadata": {
    "scrolled": true
   },
   "outputs": [
    {
     "name": "stderr",
     "output_type": "stream",
     "text": [
      "/home/vanko/anaconda3/lib/python3.6/site-packages/h5py/__init__.py:36: FutureWarning: Conversion of the second argument of issubdtype from `float` to `np.floating` is deprecated. In future, it will be treated as `np.float64 == np.dtype(float).type`.\n",
      "  from ._conv import register_converters as _register_converters\n"
     ]
    }
   ],
   "source": [
    "# Turicreate is a high-level machine learning library created by Apple\n",
    "import turicreate as tc\n",
    "ratings_train = tc.SFrame(ratings_train)\n",
    "ratings_test = tc.SFrame(ratings_test)"
   ]
  },
  {
   "cell_type": "code",
   "execution_count": 14,
   "metadata": {
    "scrolled": true
   },
   "outputs": [
    {
     "data": {
      "text/html": [
       "<pre>Recsys training: model = popularity</pre>"
      ],
      "text/plain": [
       "Recsys training: model = popularity"
      ]
     },
     "metadata": {},
     "output_type": "display_data"
    },
    {
     "data": {
      "text/html": [
       "<pre>Warning: Ignoring columns age, occupation, zip_code, F, M, title, release_date, unknown, Action, Adventure, Animation, Children's, Comedy, Crime, Documentary, Drama, Fantasy, Film-Noir, Horror, Musical, Mystery, Romance, Sci-Fi, Thriller, War, Western, unix_timestamp;</pre>"
      ],
      "text/plain": [
       "Warning: Ignoring columns age, occupation, zip_code, F, M, title, release_date, unknown, Action, Adventure, Animation, Children's, Comedy, Crime, Documentary, Drama, Fantasy, Film-Noir, Horror, Musical, Mystery, Romance, Sci-Fi, Thriller, War, Western, unix_timestamp;"
      ]
     },
     "metadata": {},
     "output_type": "display_data"
    },
    {
     "data": {
      "text/html": [
       "<pre>    To use these columns in scoring predictions, use a model that allows the use of additional features.</pre>"
      ],
      "text/plain": [
       "    To use these columns in scoring predictions, use a model that allows the use of additional features."
      ]
     },
     "metadata": {},
     "output_type": "display_data"
    },
    {
     "data": {
      "text/html": [
       "<pre>Preparing data set.</pre>"
      ],
      "text/plain": [
       "Preparing data set."
      ]
     },
     "metadata": {},
     "output_type": "display_data"
    },
    {
     "data": {
      "text/html": [
       "<pre>    Data has 89991 observations with 943 users and 1666 items.</pre>"
      ],
      "text/plain": [
       "    Data has 89991 observations with 943 users and 1666 items."
      ]
     },
     "metadata": {},
     "output_type": "display_data"
    },
    {
     "data": {
      "text/html": [
       "<pre>    Data prepared in: 0.235869s</pre>"
      ],
      "text/plain": [
       "    Data prepared in: 0.235869s"
      ]
     },
     "metadata": {},
     "output_type": "display_data"
    },
    {
     "data": {
      "text/html": [
       "<pre>89991 observations to process; with 1666 unique items.</pre>"
      ],
      "text/plain": [
       "89991 observations to process; with 1666 unique items."
      ]
     },
     "metadata": {},
     "output_type": "display_data"
    }
   ],
   "source": [
    "# A simple popularity model is trained, which recommends movies based on their popularity\n",
    "# item_id parameter specifies the column name that will be recommended, namely, movie_id\n",
    "popularity_model = tc.popularity_recommender.create(ratings_train, user_id='user_id',\n",
    "                                                            item_id='movie_id', target='rating')"
   ]
  },
  {
   "cell_type": "code",
   "execution_count": 15,
   "metadata": {},
   "outputs": [
    {
     "name": "stdout",
     "output_type": "stream",
     "text": [
      "+---------+----------+-------+------+\n",
      "| user_id | movie_id | score | rank |\n",
      "+---------+----------+-------+------+\n",
      "|    1    |   814    |  5.0  |  1   |\n",
      "|    1    |   1500   |  5.0  |  2   |\n",
      "|    1    |   1293   |  5.0  |  3   |\n",
      "|    1    |   1467   |  5.0  |  4   |\n",
      "|    1    |   1367   |  5.0  |  5   |\n",
      "|    2    |   814    |  5.0  |  1   |\n",
      "|    2    |   1500   |  5.0  |  2   |\n",
      "|    2    |   1293   |  5.0  |  3   |\n",
      "|    2    |   1467   |  5.0  |  4   |\n",
      "|    2    |   1367   |  5.0  |  5   |\n",
      "|    3    |   814    |  5.0  |  1   |\n",
      "|    3    |   1500   |  5.0  |  2   |\n",
      "|    3    |   1293   |  5.0  |  3   |\n",
      "|    3    |   1467   |  5.0  |  4   |\n",
      "|    3    |   1367   |  5.0  |  5   |\n",
      "|    4    |   814    |  5.0  |  1   |\n",
      "|    4    |   1500   |  5.0  |  2   |\n",
      "|    4    |   1293   |  5.0  |  3   |\n",
      "|    4    |   1467   |  5.0  |  4   |\n",
      "|    4    |   1367   |  5.0  |  5   |\n",
      "|    5    |   814    |  5.0  |  1   |\n",
      "|    5    |   1500   |  5.0  |  2   |\n",
      "|    5    |   1293   |  5.0  |  3   |\n",
      "|    5    |   1467   |  5.0  |  4   |\n",
      "|    5    |   1367   |  5.0  |  5   |\n",
      "+---------+----------+-------+------+\n",
      "[25 rows x 4 columns]\n",
      "\n"
     ]
    }
   ],
   "source": [
    "# Recommend the top 5 movies to users 1, 2, 3, 4, 5\n",
    "popularity_recomm = popularity_model.recommend(users=[1,2,3,4,5],k=5)\n",
    "popularity_recomm.print_rows(num_rows=25)"
   ]
  },
  {
   "cell_type": "code",
   "execution_count": 16,
   "metadata": {},
   "outputs": [
    {
     "data": {
      "text/html": [
       "<pre>Recsys training: model = ranking_factorization_recommender</pre>"
      ],
      "text/plain": [
       "Recsys training: model = ranking_factorization_recommender"
      ]
     },
     "metadata": {},
     "output_type": "display_data"
    },
    {
     "data": {
      "text/html": [
       "<pre>Preparing data set.</pre>"
      ],
      "text/plain": [
       "Preparing data set."
      ]
     },
     "metadata": {},
     "output_type": "display_data"
    },
    {
     "data": {
      "text/html": [
       "<pre>    Data has 89991 observations with 943 users and 1666 items.</pre>"
      ],
      "text/plain": [
       "    Data has 89991 observations with 943 users and 1666 items."
      ]
     },
     "metadata": {},
     "output_type": "display_data"
    },
    {
     "data": {
      "text/html": [
       "<pre>    Data prepared in: 0.99234s</pre>"
      ],
      "text/plain": [
       "    Data prepared in: 0.99234s"
      ]
     },
     "metadata": {},
     "output_type": "display_data"
    },
    {
     "data": {
      "text/html": [
       "<pre>Training ranking_factorization_recommender for recommendations.</pre>"
      ],
      "text/plain": [
       "Training ranking_factorization_recommender for recommendations."
      ]
     },
     "metadata": {},
     "output_type": "display_data"
    },
    {
     "data": {
      "text/html": [
       "<pre>+--------------------------------+--------------------------------------------------+----------+</pre>"
      ],
      "text/plain": [
       "+--------------------------------+--------------------------------------------------+----------+"
      ]
     },
     "metadata": {},
     "output_type": "display_data"
    },
    {
     "data": {
      "text/html": [
       "<pre>| Parameter                      | Description                                      | Value    |</pre>"
      ],
      "text/plain": [
       "| Parameter                      | Description                                      | Value    |"
      ]
     },
     "metadata": {},
     "output_type": "display_data"
    },
    {
     "data": {
      "text/html": [
       "<pre>+--------------------------------+--------------------------------------------------+----------+</pre>"
      ],
      "text/plain": [
       "+--------------------------------+--------------------------------------------------+----------+"
      ]
     },
     "metadata": {},
     "output_type": "display_data"
    },
    {
     "data": {
      "text/html": [
       "<pre>| num_factors                    | Factor Dimension                                 | 32       |</pre>"
      ],
      "text/plain": [
       "| num_factors                    | Factor Dimension                                 | 32       |"
      ]
     },
     "metadata": {},
     "output_type": "display_data"
    },
    {
     "data": {
      "text/html": [
       "<pre>| regularization                 | L2 Regularization on Factors                     | 1e-09    |</pre>"
      ],
      "text/plain": [
       "| regularization                 | L2 Regularization on Factors                     | 1e-09    |"
      ]
     },
     "metadata": {},
     "output_type": "display_data"
    },
    {
     "data": {
      "text/html": [
       "<pre>| solver                         | Solver used for training                         | adagrad  |</pre>"
      ],
      "text/plain": [
       "| solver                         | Solver used for training                         | adagrad  |"
      ]
     },
     "metadata": {},
     "output_type": "display_data"
    },
    {
     "data": {
      "text/html": [
       "<pre>| linear_regularization          | L2 Regularization on Linear Coefficients         | 1e-09    |</pre>"
      ],
      "text/plain": [
       "| linear_regularization          | L2 Regularization on Linear Coefficients         | 1e-09    |"
      ]
     },
     "metadata": {},
     "output_type": "display_data"
    },
    {
     "data": {
      "text/html": [
       "<pre>| ranking_regularization         | Rank-based Regularization Weight                 | 0.25     |</pre>"
      ],
      "text/plain": [
       "| ranking_regularization         | Rank-based Regularization Weight                 | 0.25     |"
      ]
     },
     "metadata": {},
     "output_type": "display_data"
    },
    {
     "data": {
      "text/html": [
       "<pre>| max_iterations                 | Maximum Number of Iterations                     | 25       |</pre>"
      ],
      "text/plain": [
       "| max_iterations                 | Maximum Number of Iterations                     | 25       |"
      ]
     },
     "metadata": {},
     "output_type": "display_data"
    },
    {
     "data": {
      "text/html": [
       "<pre>+--------------------------------+--------------------------------------------------+----------+</pre>"
      ],
      "text/plain": [
       "+--------------------------------+--------------------------------------------------+----------+"
      ]
     },
     "metadata": {},
     "output_type": "display_data"
    },
    {
     "data": {
      "text/html": [
       "<pre>  Optimizing model using SGD; tuning step size.</pre>"
      ],
      "text/plain": [
       "  Optimizing model using SGD; tuning step size."
      ]
     },
     "metadata": {},
     "output_type": "display_data"
    },
    {
     "data": {
      "text/html": [
       "<pre>  Using 11248 / 89991 points for tuning the step size.</pre>"
      ],
      "text/plain": [
       "  Using 11248 / 89991 points for tuning the step size."
      ]
     },
     "metadata": {},
     "output_type": "display_data"
    },
    {
     "data": {
      "text/html": [
       "<pre>+---------+-------------------+------------------------------------------+</pre>"
      ],
      "text/plain": [
       "+---------+-------------------+------------------------------------------+"
      ]
     },
     "metadata": {},
     "output_type": "display_data"
    },
    {
     "data": {
      "text/html": [
       "<pre>| Attempt | Initial Step Size | Estimated Objective Value                |</pre>"
      ],
      "text/plain": [
       "| Attempt | Initial Step Size | Estimated Objective Value                |"
      ]
     },
     "metadata": {},
     "output_type": "display_data"
    },
    {
     "data": {
      "text/html": [
       "<pre>+---------+-------------------+------------------------------------------+</pre>"
      ],
      "text/plain": [
       "+---------+-------------------+------------------------------------------+"
      ]
     },
     "metadata": {},
     "output_type": "display_data"
    },
    {
     "data": {
      "text/html": [
       "<pre>| 0       | 1.72414           | Not Viable                               |</pre>"
      ],
      "text/plain": [
       "| 0       | 1.72414           | Not Viable                               |"
      ]
     },
     "metadata": {},
     "output_type": "display_data"
    },
    {
     "data": {
      "text/html": [
       "<pre>| 1       | 0.431034          | Not Viable                               |</pre>"
      ],
      "text/plain": [
       "| 1       | 0.431034          | Not Viable                               |"
      ]
     },
     "metadata": {},
     "output_type": "display_data"
    },
    {
     "data": {
      "text/html": [
       "<pre>| 2       | 0.107759          | Not Viable                               |</pre>"
      ],
      "text/plain": [
       "| 2       | 0.107759          | Not Viable                               |"
      ]
     },
     "metadata": {},
     "output_type": "display_data"
    },
    {
     "data": {
      "text/html": [
       "<pre>| 3       | 0.0269397         | 1.26187                                  |</pre>"
      ],
      "text/plain": [
       "| 3       | 0.0269397         | 1.26187                                  |"
      ]
     },
     "metadata": {},
     "output_type": "display_data"
    },
    {
     "data": {
      "text/html": [
       "<pre>| 4       | 0.0134698         | 1.6084                                   |</pre>"
      ],
      "text/plain": [
       "| 4       | 0.0134698         | 1.6084                                   |"
      ]
     },
     "metadata": {},
     "output_type": "display_data"
    },
    {
     "data": {
      "text/html": [
       "<pre>| 5       | 0.00673491        | 1.89729                                  |</pre>"
      ],
      "text/plain": [
       "| 5       | 0.00673491        | 1.89729                                  |"
      ]
     },
     "metadata": {},
     "output_type": "display_data"
    },
    {
     "data": {
      "text/html": [
       "<pre>| 6       | 0.00336746        | 2.05211                                  |</pre>"
      ],
      "text/plain": [
       "| 6       | 0.00336746        | 2.05211                                  |"
      ]
     },
     "metadata": {},
     "output_type": "display_data"
    },
    {
     "data": {
      "text/html": [
       "<pre>+---------+-------------------+------------------------------------------+</pre>"
      ],
      "text/plain": [
       "+---------+-------------------+------------------------------------------+"
      ]
     },
     "metadata": {},
     "output_type": "display_data"
    },
    {
     "data": {
      "text/html": [
       "<pre>| Final   | 0.0269397         | 1.26187                                  |</pre>"
      ],
      "text/plain": [
       "| Final   | 0.0269397         | 1.26187                                  |"
      ]
     },
     "metadata": {},
     "output_type": "display_data"
    },
    {
     "data": {
      "text/html": [
       "<pre>+---------+-------------------+------------------------------------------+</pre>"
      ],
      "text/plain": [
       "+---------+-------------------+------------------------------------------+"
      ]
     },
     "metadata": {},
     "output_type": "display_data"
    },
    {
     "data": {
      "text/html": [
       "<pre>Starting Optimization.</pre>"
      ],
      "text/plain": [
       "Starting Optimization."
      ]
     },
     "metadata": {},
     "output_type": "display_data"
    },
    {
     "data": {
      "text/html": [
       "<pre>+---------+--------------+-------------------+-----------------------+-------------+</pre>"
      ],
      "text/plain": [
       "+---------+--------------+-------------------+-----------------------+-------------+"
      ]
     },
     "metadata": {},
     "output_type": "display_data"
    },
    {
     "data": {
      "text/html": [
       "<pre>| Iter.   | Elapsed Time | Approx. Objective | Approx. Training RMSE | Step Size   |</pre>"
      ],
      "text/plain": [
       "| Iter.   | Elapsed Time | Approx. Objective | Approx. Training RMSE | Step Size   |"
      ]
     },
     "metadata": {},
     "output_type": "display_data"
    },
    {
     "data": {
      "text/html": [
       "<pre>+---------+--------------+-------------------+-----------------------+-------------+</pre>"
      ],
      "text/plain": [
       "+---------+--------------+-------------------+-----------------------+-------------+"
      ]
     },
     "metadata": {},
     "output_type": "display_data"
    },
    {
     "data": {
      "text/html": [
       "<pre>| Initial | 20.319ms     | 2.48358           | 1.12541               |             |</pre>"
      ],
      "text/plain": [
       "| Initial | 20.319ms     | 2.48358           | 1.12541               |             |"
      ]
     },
     "metadata": {},
     "output_type": "display_data"
    },
    {
     "data": {
      "text/html": [
       "<pre>+---------+--------------+-------------------+-----------------------+-------------+</pre>"
      ],
      "text/plain": [
       "+---------+--------------+-------------------+-----------------------+-------------+"
      ]
     },
     "metadata": {},
     "output_type": "display_data"
    },
    {
     "data": {
      "text/html": [
       "<pre>| 1       | 4.76s        | 1.70059           | 1.05097               | 0.0269397   |</pre>"
      ],
      "text/plain": [
       "| 1       | 4.76s        | 1.70059           | 1.05097               | 0.0269397   |"
      ]
     },
     "metadata": {},
     "output_type": "display_data"
    },
    {
     "data": {
      "text/html": [
       "<pre>| 2       | 9.57s        | 1.30172           | 0.949865              | 0.0269397   |</pre>"
      ],
      "text/plain": [
       "| 2       | 9.57s        | 1.30172           | 0.949865              | 0.0269397   |"
      ]
     },
     "metadata": {},
     "output_type": "display_data"
    },
    {
     "data": {
      "text/html": [
       "<pre>| 3       | 14.50s       | 1.1284            | 0.907649              | 0.0269397   |</pre>"
      ],
      "text/plain": [
       "| 3       | 14.50s       | 1.1284            | 0.907649              | 0.0269397   |"
      ]
     },
     "metadata": {},
     "output_type": "display_data"
    },
    {
     "data": {
      "text/html": [
       "<pre>| 4       | 19.16s       | 1.02296           | 0.877956              | 0.0269397   |</pre>"
      ],
      "text/plain": [
       "| 4       | 19.16s       | 1.02296           | 0.877956              | 0.0269397   |"
      ]
     },
     "metadata": {},
     "output_type": "display_data"
    },
    {
     "data": {
      "text/html": [
       "<pre>| 5       | 23.68s       | 0.955007          | 0.858104              | 0.0269397   |</pre>"
      ],
      "text/plain": [
       "| 5       | 23.68s       | 0.955007          | 0.858104              | 0.0269397   |"
      ]
     },
     "metadata": {},
     "output_type": "display_data"
    },
    {
     "data": {
      "text/html": [
       "<pre>| 7       | 32.48s       | 0.866017          | 0.830497              | 0.0269397   |</pre>"
      ],
      "text/plain": [
       "| 7       | 32.48s       | 0.866017          | 0.830497              | 0.0269397   |"
      ]
     },
     "metadata": {},
     "output_type": "display_data"
    },
    {
     "data": {
      "text/html": [
       "<pre>| 8       | 36.83s       | 0.837122          | 0.820865              | 0.0269397   |</pre>"
      ],
      "text/plain": [
       "| 8       | 36.83s       | 0.837122          | 0.820865              | 0.0269397   |"
      ]
     },
     "metadata": {},
     "output_type": "display_data"
    },
    {
     "data": {
      "text/html": [
       "<pre>| 9       | 41.17s       | 0.812723          | 0.81145               | 0.0269397   |</pre>"
      ],
      "text/plain": [
       "| 9       | 41.17s       | 0.812723          | 0.81145               | 0.0269397   |"
      ]
     },
     "metadata": {},
     "output_type": "display_data"
    },
    {
     "data": {
      "text/html": [
       "<pre>| 10      | 45.47s       | 0.789118          | 0.803129              | 0.0269397   |</pre>"
      ],
      "text/plain": [
       "| 10      | 45.47s       | 0.789118          | 0.803129              | 0.0269397   |"
      ]
     },
     "metadata": {},
     "output_type": "display_data"
    },
    {
     "data": {
      "text/html": [
       "<pre>| 11      | 49.69s       | 0.771777          | 0.795854              | 0.0269397   |</pre>"
      ],
      "text/plain": [
       "| 11      | 49.69s       | 0.771777          | 0.795854              | 0.0269397   |"
      ]
     },
     "metadata": {},
     "output_type": "display_data"
    },
    {
     "data": {
      "text/html": [
       "<pre>| 12      | 53.83s       | 0.756116          | 0.790374              | 0.0269397   |</pre>"
      ],
      "text/plain": [
       "| 12      | 53.83s       | 0.756116          | 0.790374              | 0.0269397   |"
      ]
     },
     "metadata": {},
     "output_type": "display_data"
    },
    {
     "data": {
      "text/html": [
       "<pre>| 13      | 58.11s       | 0.742412          | 0.784039              | 0.0269397   |</pre>"
      ],
      "text/plain": [
       "| 13      | 58.11s       | 0.742412          | 0.784039              | 0.0269397   |"
      ]
     },
     "metadata": {},
     "output_type": "display_data"
    },
    {
     "data": {
      "text/html": [
       "<pre>| 14      | 1m 2s        | 0.729179          | 0.778731              | 0.0269397   |</pre>"
      ],
      "text/plain": [
       "| 14      | 1m 2s        | 0.729179          | 0.778731              | 0.0269397   |"
      ]
     },
     "metadata": {},
     "output_type": "display_data"
    },
    {
     "data": {
      "text/html": [
       "<pre>| 15      | 1m 6s        | 0.718283          | 0.774582              | 0.0269397   |</pre>"
      ],
      "text/plain": [
       "| 15      | 1m 6s        | 0.718283          | 0.774582              | 0.0269397   |"
      ]
     },
     "metadata": {},
     "output_type": "display_data"
    },
    {
     "data": {
      "text/html": [
       "<pre>| 16      | 1m 10s       | 0.708757          | 0.770671              | 0.0269397   |</pre>"
      ],
      "text/plain": [
       "| 16      | 1m 10s       | 0.708757          | 0.770671              | 0.0269397   |"
      ]
     },
     "metadata": {},
     "output_type": "display_data"
    },
    {
     "data": {
      "text/html": [
       "<pre>| 17      | 1m 14s       | 0.699198          | 0.765874              | 0.0269397   |</pre>"
      ],
      "text/plain": [
       "| 17      | 1m 14s       | 0.699198          | 0.765874              | 0.0269397   |"
      ]
     },
     "metadata": {},
     "output_type": "display_data"
    },
    {
     "data": {
      "text/html": [
       "<pre>| 18      | 1m 18s       | 0.690721          | 0.762451              | 0.0269397   |</pre>"
      ],
      "text/plain": [
       "| 18      | 1m 18s       | 0.690721          | 0.762451              | 0.0269397   |"
      ]
     },
     "metadata": {},
     "output_type": "display_data"
    },
    {
     "data": {
      "text/html": [
       "<pre>| 19      | 1m 22s       | 0.681475          | 0.758647              | 0.0269397   |</pre>"
      ],
      "text/plain": [
       "| 19      | 1m 22s       | 0.681475          | 0.758647              | 0.0269397   |"
      ]
     },
     "metadata": {},
     "output_type": "display_data"
    },
    {
     "data": {
      "text/html": [
       "<pre>| 20      | 1m 26s       | 0.674152          | 0.755025              | 0.0269397   |</pre>"
      ],
      "text/plain": [
       "| 20      | 1m 26s       | 0.674152          | 0.755025              | 0.0269397   |"
      ]
     },
     "metadata": {},
     "output_type": "display_data"
    },
    {
     "data": {
      "text/html": [
       "<pre>| 21      | 1m 30s       | 0.667089          | 0.751683              | 0.0269397   |</pre>"
      ],
      "text/plain": [
       "| 21      | 1m 30s       | 0.667089          | 0.751683              | 0.0269397   |"
      ]
     },
     "metadata": {},
     "output_type": "display_data"
    },
    {
     "data": {
      "text/html": [
       "<pre>| 22      | 1m 34s       | 0.659515          | 0.748761              | 0.0269397   |</pre>"
      ],
      "text/plain": [
       "| 22      | 1m 34s       | 0.659515          | 0.748761              | 0.0269397   |"
      ]
     },
     "metadata": {},
     "output_type": "display_data"
    },
    {
     "data": {
      "text/html": [
       "<pre>| 23      | 1m 38s       | 0.655093          | 0.745653              | 0.0269397   |</pre>"
      ],
      "text/plain": [
       "| 23      | 1m 38s       | 0.655093          | 0.745653              | 0.0269397   |"
      ]
     },
     "metadata": {},
     "output_type": "display_data"
    },
    {
     "data": {
      "text/html": [
       "<pre>| 24      | 1m 42s       | 0.649082          | 0.743237              | 0.0269397   |</pre>"
      ],
      "text/plain": [
       "| 24      | 1m 42s       | 0.649082          | 0.743237              | 0.0269397   |"
      ]
     },
     "metadata": {},
     "output_type": "display_data"
    },
    {
     "data": {
      "text/html": [
       "<pre>| 25      | 1m 46s       | 0.642908          | 0.740063              | 0.0269397   |</pre>"
      ],
      "text/plain": [
       "| 25      | 1m 46s       | 0.642908          | 0.740063              | 0.0269397   |"
      ]
     },
     "metadata": {},
     "output_type": "display_data"
    },
    {
     "data": {
      "text/html": [
       "<pre>+---------+--------------+-------------------+-----------------------+-------------+</pre>"
      ],
      "text/plain": [
       "+---------+--------------+-------------------+-----------------------+-------------+"
      ]
     },
     "metadata": {},
     "output_type": "display_data"
    },
    {
     "data": {
      "text/html": [
       "<pre>Optimization Complete: Maximum number of passes through the data reached.</pre>"
      ],
      "text/plain": [
       "Optimization Complete: Maximum number of passes through the data reached."
      ]
     },
     "metadata": {},
     "output_type": "display_data"
    },
    {
     "data": {
      "text/html": [
       "<pre>Computing final objective value and training RMSE.</pre>"
      ],
      "text/plain": [
       "Computing final objective value and training RMSE."
      ]
     },
     "metadata": {},
     "output_type": "display_data"
    },
    {
     "data": {
      "text/html": [
       "<pre>       Final objective value: 0.628105</pre>"
      ],
      "text/plain": [
       "       Final objective value: 0.628105"
      ]
     },
     "metadata": {},
     "output_type": "display_data"
    },
    {
     "data": {
      "text/html": [
       "<pre>       Final training RMSE: 0.728328</pre>"
      ],
      "text/plain": [
       "       Final training RMSE: 0.728328"
      ]
     },
     "metadata": {},
     "output_type": "display_data"
    }
   ],
   "source": [
    "# The above was a simple popularity model. Now we will build a collaborative-filtering model.\n",
    "# Ranking factorization recommender trains a model to predict a rating for\n",
    "# each possible combination of users and movies. The internal coefficients of the model are\n",
    "# learned from known ratings of users on movies. Recommendations are then based on these ratings.\n",
    "# Training the model\n",
    "item_sim_model = tc.ranking_factorization_recommender.create(ratings_train, user_id='user_id',\n",
    "                                                             item_id='movie_id', target='rating')"
   ]
  },
  {
   "cell_type": "code",
   "execution_count": 17,
   "metadata": {},
   "outputs": [
    {
     "name": "stdout",
     "output_type": "stream",
     "text": [
      "+---------+----------+--------------------+------+\n",
      "| user_id | movie_id |       score        | rank |\n",
      "+---------+----------+--------------------+------+\n",
      "|    1    |   286    | 4.0907851423458705 |  1   |\n",
      "|    1    |   302    | 4.049964782162155  |  2   |\n",
      "|    1    |   762    | 3.966235239370311  |  3   |\n",
      "|    1    |   471    | 3.9660469855503684 |  4   |\n",
      "|    1    |   591    | 3.9560885991291648 |  5   |\n",
      "|    2    |   191    | 4.2581757924841295 |  1   |\n",
      "|    2    |   427    | 4.246132301478232  |  2   |\n",
      "|    2    |    12    | 4.244044440178717  |  3   |\n",
      "|    2    |   238    | 4.243991466550673  |  4   |\n",
      "|    2    |   357    | 4.236781122474516  |  5   |\n",
      "|    3    |   153    | 4.139021735949958  |  1   |\n",
      "|    3    |   185    |  4.1327195282416   |  2   |\n",
      "|    3    |   483    | 4.070365678830589  |  3   |\n",
      "|    3    |   211    | 4.062940310998405  |  4   |\n",
      "|    3    |   480    | 4.058870997591461  |  5   |\n",
      "|    4    |   302    | 4.052674558325256  |  1   |\n",
      "|    4    |   313    | 4.0358977730707775 |  2   |\n",
      "|    4    |   127    | 4.020464282794441  |  3   |\n",
      "|    4    |   269    | 4.006180282993759  |  4   |\n",
      "|    4    |    98    | 3.978991549773658  |  5   |\n",
      "|    5    |   195    | 4.451035175784076  |  1   |\n",
      "|    5    |   186    | 4.374290142519916  |  2   |\n",
      "|    5    |   237    | 4.2118691693381916 |  3   |\n",
      "|    5    |    96    | 4.200936530096973  |  4   |\n",
      "|    5    |   478    | 4.178583406223501  |  5   |\n",
      "+---------+----------+--------------------+------+\n",
      "[25 rows x 4 columns]\n",
      "\n"
     ]
    }
   ],
   "source": [
    "# Making recommendations\n",
    "item_sim_recomm = item_sim_model.recommend(users=[1,2,3,4,5],k=5)\n",
    "item_sim_recomm.print_rows(num_rows=25)"
   ]
  },
  {
   "cell_type": "code",
   "execution_count": 18,
   "metadata": {},
   "outputs": [
    {
     "data": {
      "text/plain": [
       "{'rmse_by_user': Columns:\n",
       " \tuser_id\tint\n",
       " \trmse\tfloat\n",
       " \tcount\tint\n",
       " \n",
       " Rows: 924\n",
       " \n",
       " Data:\n",
       " +---------+--------------------+-------+\n",
       " | user_id |        rmse        | count |\n",
       " +---------+--------------------+-------+\n",
       " |   747   | 1.0253579557650696 |   26  |\n",
       " |   118   | 1.1566056772649114 |   6   |\n",
       " |   153   | 0.7576928995309292 |   3   |\n",
       " |   660   | 0.7986550819196537 |   24  |\n",
       " |    92   | 0.9467938661862798 |   36  |\n",
       " |   264   | 0.8111248554854931 |   11  |\n",
       " |   690   | 1.013448401167215  |   5   |\n",
       " |   839   | 1.340271080153556  |   7   |\n",
       " |   837   | 1.1959237840553119 |   3   |\n",
       " |   208   | 0.7263953991261606 |   5   |\n",
       " +---------+--------------------+-------+\n",
       " [924 rows x 3 columns]\n",
       " Note: Only the head of the SFrame is printed.\n",
       " You can use print_rows(num_rows=m, num_columns=n) to print more rows and columns.,\n",
       " 'rmse_by_item': Columns:\n",
       " \tmovie_id\tint\n",
       " \trmse\tfloat\n",
       " \tcount\tint\n",
       " \n",
       " Rows: 1253\n",
       " \n",
       " Data:\n",
       " +----------+--------------------+-------+\n",
       " | movie_id |        rmse        | count |\n",
       " +----------+--------------------+-------+\n",
       " |   747    | 0.7198053227438469 |   8   |\n",
       " |   118    | 0.9560387939254039 |   29  |\n",
       " |   153    | 0.9248114395115474 |   25  |\n",
       " |   660    | 1.164346806532711  |   10  |\n",
       " |   1379   | 0.6818968008304069 |   1   |\n",
       " |    92    | 0.9289637103862961 |   14  |\n",
       " |   264    | 0.9634286514801615 |   7   |\n",
       " |   690    | 0.7818036681031163 |   13  |\n",
       " |   839    | 2.6736379432951205 |   1   |\n",
       " |   208    | 0.7201899106130484 |   17  |\n",
       " +----------+--------------------+-------+\n",
       " [1253 rows x 3 columns]\n",
       " Note: Only the head of the SFrame is printed.\n",
       " You can use print_rows(num_rows=m, num_columns=n) to print more rows and columns.,\n",
       " 'rmse_overall': 1.005002956379006}"
      ]
     },
     "execution_count": 18,
     "metadata": {},
     "output_type": "execute_result"
    }
   ],
   "source": [
    "# Evaluate RMSE (Root Mean Square Error), the lower it is, the better. A lower score means the actual data points\n",
    "# are closer to the regression line (therefore the regression line's predicted value is closer to the actual value)\n",
    "# For visual explanation refer to:\n",
    "# https://www.khanacademy.org/math/ap-statistics/bivariate-data-ap/assessing-fit-least-squares-regression/v/standard-dev-residuals\n",
    "item_sim_model.evaluate_rmse(ratings_test, target='rating')\n",
    "# For this model, on the testing data, the RMSE is ~1, which is not too bad. It is also quite close to\n",
    "# the RMSE of the model on the training data, which is ~0.73."
   ]
  }
 ],
 "metadata": {
  "kernelspec": {
   "display_name": "Python 3",
   "language": "python",
   "name": "python3"
  },
  "language_info": {
   "codemirror_mode": {
    "name": "ipython",
    "version": 3
   },
   "file_extension": ".py",
   "mimetype": "text/x-python",
   "name": "python",
   "nbconvert_exporter": "python",
   "pygments_lexer": "ipython3",
   "version": "3.6.5"
  }
 },
 "nbformat": 4,
 "nbformat_minor": 2
}
