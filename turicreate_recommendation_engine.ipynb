{
 "cells": [
  {
   "cell_type": "code",
   "execution_count": 1,
   "metadata": {},
   "outputs": [],
   "source": [
    "# Importing standard libraries\n",
    "import pandas as pd\n",
    "import numpy as np\n",
    "import matplotlib\n",
    "import matplotlib.pyplot as plt\n",
    "%matplotlib inline"
   ]
  },
  {
   "cell_type": "code",
   "execution_count": 2,
   "metadata": {},
   "outputs": [
    {
     "data": {
      "text/html": [
       "<div>\n",
       "<style scoped>\n",
       "    .dataframe tbody tr th:only-of-type {\n",
       "        vertical-align: middle;\n",
       "    }\n",
       "\n",
       "    .dataframe tbody tr th {\n",
       "        vertical-align: top;\n",
       "    }\n",
       "\n",
       "    .dataframe thead th {\n",
       "        text-align: right;\n",
       "    }\n",
       "</style>\n",
       "<table border=\"1\" class=\"dataframe\">\n",
       "  <thead>\n",
       "    <tr style=\"text-align: right;\">\n",
       "      <th></th>\n",
       "      <th>user_id</th>\n",
       "      <th>movie_id</th>\n",
       "      <th>rating</th>\n",
       "      <th>unix_timestamp</th>\n",
       "    </tr>\n",
       "  </thead>\n",
       "  <tbody>\n",
       "    <tr>\n",
       "      <th>0</th>\n",
       "      <td>196</td>\n",
       "      <td>242</td>\n",
       "      <td>3</td>\n",
       "      <td>881250949</td>\n",
       "    </tr>\n",
       "    <tr>\n",
       "      <th>1</th>\n",
       "      <td>186</td>\n",
       "      <td>302</td>\n",
       "      <td>3</td>\n",
       "      <td>891717742</td>\n",
       "    </tr>\n",
       "    <tr>\n",
       "      <th>2</th>\n",
       "      <td>22</td>\n",
       "      <td>377</td>\n",
       "      <td>1</td>\n",
       "      <td>878887116</td>\n",
       "    </tr>\n",
       "    <tr>\n",
       "      <th>3</th>\n",
       "      <td>244</td>\n",
       "      <td>51</td>\n",
       "      <td>2</td>\n",
       "      <td>880606923</td>\n",
       "    </tr>\n",
       "    <tr>\n",
       "      <th>4</th>\n",
       "      <td>166</td>\n",
       "      <td>346</td>\n",
       "      <td>1</td>\n",
       "      <td>886397596</td>\n",
       "    </tr>\n",
       "  </tbody>\n",
       "</table>\n",
       "</div>"
      ],
      "text/plain": [
       "   user_id  movie_id  rating  unix_timestamp\n",
       "0      196       242       3       881250949\n",
       "1      186       302       3       891717742\n",
       "2       22       377       1       878887116\n",
       "3      244        51       2       880606923\n",
       "4      166       346       1       886397596"
      ]
     },
     "execution_count": 2,
     "metadata": {},
     "output_type": "execute_result"
    }
   ],
   "source": [
    "# Importing ratings file\n",
    "ratings = pd.read_csv('ratings.csv')\n",
    "ratings.head()"
   ]
  },
  {
   "cell_type": "code",
   "execution_count": 3,
   "metadata": {
    "scrolled": true
   },
   "outputs": [
    {
     "data": {
      "text/html": [
       "<div>\n",
       "<style scoped>\n",
       "    .dataframe tbody tr th:only-of-type {\n",
       "        vertical-align: middle;\n",
       "    }\n",
       "\n",
       "    .dataframe tbody tr th {\n",
       "        vertical-align: top;\n",
       "    }\n",
       "\n",
       "    .dataframe thead th {\n",
       "        text-align: right;\n",
       "    }\n",
       "</style>\n",
       "<table border=\"1\" class=\"dataframe\">\n",
       "  <thead>\n",
       "    <tr style=\"text-align: right;\">\n",
       "      <th></th>\n",
       "      <th>movie_id</th>\n",
       "      <th>number_of_ratings</th>\n",
       "    </tr>\n",
       "  </thead>\n",
       "  <tbody>\n",
       "    <tr>\n",
       "      <th>0</th>\n",
       "      <td>1</td>\n",
       "      <td>452</td>\n",
       "    </tr>\n",
       "    <tr>\n",
       "      <th>1</th>\n",
       "      <td>2</td>\n",
       "      <td>131</td>\n",
       "    </tr>\n",
       "    <tr>\n",
       "      <th>2</th>\n",
       "      <td>3</td>\n",
       "      <td>90</td>\n",
       "    </tr>\n",
       "    <tr>\n",
       "      <th>3</th>\n",
       "      <td>4</td>\n",
       "      <td>209</td>\n",
       "    </tr>\n",
       "    <tr>\n",
       "      <th>4</th>\n",
       "      <td>5</td>\n",
       "      <td>86</td>\n",
       "    </tr>\n",
       "    <tr>\n",
       "      <th>5</th>\n",
       "      <td>7</td>\n",
       "      <td>392</td>\n",
       "    </tr>\n",
       "    <tr>\n",
       "      <th>6</th>\n",
       "      <td>8</td>\n",
       "      <td>219</td>\n",
       "    </tr>\n",
       "    <tr>\n",
       "      <th>7</th>\n",
       "      <td>9</td>\n",
       "      <td>299</td>\n",
       "    </tr>\n",
       "    <tr>\n",
       "      <th>8</th>\n",
       "      <td>10</td>\n",
       "      <td>89</td>\n",
       "    </tr>\n",
       "    <tr>\n",
       "      <th>9</th>\n",
       "      <td>11</td>\n",
       "      <td>236</td>\n",
       "    </tr>\n",
       "    <tr>\n",
       "      <th>10</th>\n",
       "      <td>12</td>\n",
       "      <td>267</td>\n",
       "    </tr>\n",
       "    <tr>\n",
       "      <th>11</th>\n",
       "      <td>13</td>\n",
       "      <td>184</td>\n",
       "    </tr>\n",
       "    <tr>\n",
       "      <th>12</th>\n",
       "      <td>14</td>\n",
       "      <td>183</td>\n",
       "    </tr>\n",
       "    <tr>\n",
       "      <th>13</th>\n",
       "      <td>15</td>\n",
       "      <td>293</td>\n",
       "    </tr>\n",
       "    <tr>\n",
       "      <th>14</th>\n",
       "      <td>17</td>\n",
       "      <td>92</td>\n",
       "    </tr>\n",
       "    <tr>\n",
       "      <th>15</th>\n",
       "      <td>19</td>\n",
       "      <td>69</td>\n",
       "    </tr>\n",
       "    <tr>\n",
       "      <th>16</th>\n",
       "      <td>20</td>\n",
       "      <td>72</td>\n",
       "    </tr>\n",
       "    <tr>\n",
       "      <th>17</th>\n",
       "      <td>21</td>\n",
       "      <td>84</td>\n",
       "    </tr>\n",
       "    <tr>\n",
       "      <th>18</th>\n",
       "      <td>22</td>\n",
       "      <td>297</td>\n",
       "    </tr>\n",
       "    <tr>\n",
       "      <th>19</th>\n",
       "      <td>23</td>\n",
       "      <td>182</td>\n",
       "    </tr>\n",
       "  </tbody>\n",
       "</table>\n",
       "</div>"
      ],
      "text/plain": [
       "    movie_id  number_of_ratings\n",
       "0          1                452\n",
       "1          2                131\n",
       "2          3                 90\n",
       "3          4                209\n",
       "4          5                 86\n",
       "5          7                392\n",
       "6          8                219\n",
       "7          9                299\n",
       "8         10                 89\n",
       "9         11                236\n",
       "10        12                267\n",
       "11        13                184\n",
       "12        14                183\n",
       "13        15                293\n",
       "14        17                 92\n",
       "15        19                 69\n",
       "16        20                 72\n",
       "17        21                 84\n",
       "18        22                297\n",
       "19        23                182"
      ]
     },
     "execution_count": 3,
     "metadata": {},
     "output_type": "execute_result"
    }
   ],
   "source": [
    "# Create a number of ratings column to see how many ratings each movie has\n",
    "ratings_over_fifty = pd.DataFrame(ratings.groupby('movie_id')['rating'].count())\n",
    "# Rename the column to number_of_ratings\n",
    "ratings_over_fifty.columns = ['number_of_ratings']\n",
    "# Get only the movies that have more than 50 ratings\n",
    "ratings_over_fifty = ratings_over_fifty[ratings_over_fifty['number_of_ratings']>50]\n",
    "# Reset index so that movie_id is not index, put an artificial index value\n",
    "ratings_over_fifty.reset_index(inplace=True)\n",
    "# See the movies with over 50 ratings\n",
    "ratings_over_fifty.head(20)"
   ]
  },
  {
   "cell_type": "code",
   "execution_count": 4,
   "metadata": {},
   "outputs": [],
   "source": [
    "# Define function to check if a movie in the main dataset has over 50 ratings or not\n",
    "def rows_above_under_fifty(row):\n",
    "    if np.any(row == ratings_over_fifty['movie_id']):\n",
    "        return True\n",
    "    return False"
   ]
  },
  {
   "cell_type": "code",
   "execution_count": 5,
   "metadata": {},
   "outputs": [
    {
     "data": {
      "text/plain": [
       "0     True\n",
       "1     True\n",
       "2    False\n",
       "3     True\n",
       "4     True\n",
       "Name: movie_id, dtype: bool"
      ]
     },
     "execution_count": 5,
     "metadata": {},
     "output_type": "execute_result"
    }
   ],
   "source": [
    "# Apply that function on the movies column, assigns the True or False values in a new Series object\n",
    "series_above_under_fifty = ratings['movie_id'].apply(rows_above_under_fifty)\n",
    "# It can be seen that the 1st, 2nd movies have over 50 ratings, whereas the 3rd one does not\n",
    "# 1st corresponds to movie_id 242\n",
    "# 2nd corresponds to movie_id 302\n",
    "# 3rd corresponds to movie_id 377\n",
    "series_above_under_fifty.head()"
   ]
  },
  {
   "cell_type": "code",
   "execution_count": 6,
   "metadata": {},
   "outputs": [
    {
     "name": "stdout",
     "output_type": "stream",
     "text": [
      "     movie_id  number_of_ratings\n",
      "209       242                117\n",
      "     movie_id  number_of_ratings\n",
      "257       302                297\n",
      "Empty DataFrame\n",
      "Columns: [movie_id, number_of_ratings]\n",
      "Index: []\n"
     ]
    }
   ],
   "source": [
    "# Let's see if that is the case\n",
    "# Prints out that it has 117 ratings\n",
    "print(ratings_over_fifty[ratings_over_fifty['movie_id'] == 242])\n",
    "# Prints out that is has 297 ratings\n",
    "print(ratings_over_fifty[ratings_over_fifty['movie_id'] == 302])\n",
    "# Returns empty dataframe => it is not in the ratings_over_fifty list => it does not have over 50 ratings\n",
    "print(ratings_over_fifty[ratings_over_fifty['movie_id'] == 377])"
   ]
  },
  {
   "cell_type": "code",
   "execution_count": 7,
   "metadata": {},
   "outputs": [
    {
     "data": {
      "text/html": [
       "<div>\n",
       "<style scoped>\n",
       "    .dataframe tbody tr th:only-of-type {\n",
       "        vertical-align: middle;\n",
       "    }\n",
       "\n",
       "    .dataframe tbody tr th {\n",
       "        vertical-align: top;\n",
       "    }\n",
       "\n",
       "    .dataframe thead th {\n",
       "        text-align: right;\n",
       "    }\n",
       "</style>\n",
       "<table border=\"1\" class=\"dataframe\">\n",
       "  <thead>\n",
       "    <tr style=\"text-align: right;\">\n",
       "      <th></th>\n",
       "      <th>user_id</th>\n",
       "      <th>movie_id</th>\n",
       "      <th>rating</th>\n",
       "      <th>unix_timestamp</th>\n",
       "    </tr>\n",
       "  </thead>\n",
       "  <tbody>\n",
       "    <tr>\n",
       "      <th>0</th>\n",
       "      <td>196</td>\n",
       "      <td>242</td>\n",
       "      <td>3</td>\n",
       "      <td>881250949</td>\n",
       "    </tr>\n",
       "    <tr>\n",
       "      <th>1</th>\n",
       "      <td>186</td>\n",
       "      <td>302</td>\n",
       "      <td>3</td>\n",
       "      <td>891717742</td>\n",
       "    </tr>\n",
       "    <tr>\n",
       "      <th>3</th>\n",
       "      <td>244</td>\n",
       "      <td>51</td>\n",
       "      <td>2</td>\n",
       "      <td>880606923</td>\n",
       "    </tr>\n",
       "    <tr>\n",
       "      <th>4</th>\n",
       "      <td>166</td>\n",
       "      <td>346</td>\n",
       "      <td>1</td>\n",
       "      <td>886397596</td>\n",
       "    </tr>\n",
       "    <tr>\n",
       "      <th>5</th>\n",
       "      <td>298</td>\n",
       "      <td>474</td>\n",
       "      <td>4</td>\n",
       "      <td>884182806</td>\n",
       "    </tr>\n",
       "  </tbody>\n",
       "</table>\n",
       "</div>"
      ],
      "text/plain": [
       "   user_id  movie_id  rating  unix_timestamp\n",
       "0      196       242       3       881250949\n",
       "1      186       302       3       891717742\n",
       "3      244        51       2       880606923\n",
       "4      166       346       1       886397596\n",
       "5      298       474       4       884182806"
      ]
     },
     "execution_count": 7,
     "metadata": {},
     "output_type": "execute_result"
    }
   ],
   "source": [
    "# Filter ratings dataset so that only the movies with above 50 rating remain\n",
    "ratings_filtered = ratings[series_above_under_fifty]\n",
    "ratings_filtered.head()"
   ]
  },
  {
   "cell_type": "code",
   "execution_count": 8,
   "metadata": {},
   "outputs": [],
   "source": [
    "# Split the ratings dataframe into train and test set\n",
    "from sklearn.model_selection import train_test_split\n",
    "# Model with the whole dataset\n",
    "ratings_train, ratings_test = train_test_split(ratings, test_size=0.15, random_state=1)\n",
    "# Model with only the movies that have above 50 rating\n",
    "#ratings_train, ratings_test = train_test_split(ratings_filtered, test_size=0.15, random_state=1)"
   ]
  },
  {
   "cell_type": "code",
   "execution_count": 9,
   "metadata": {
    "scrolled": true
   },
   "outputs": [
    {
     "name": "stderr",
     "output_type": "stream",
     "text": [
      "/home/vanko/anaconda3/lib/python3.6/site-packages/h5py/__init__.py:36: FutureWarning: Conversion of the second argument of issubdtype from `float` to `np.floating` is deprecated. In future, it will be treated as `np.float64 == np.dtype(float).type`.\n",
      "  from ._conv import register_converters as _register_converters\n"
     ]
    }
   ],
   "source": [
    "# Turicreate is a high-level machine learning library created by Apple\n",
    "import turicreate as tc\n",
    "ratings_train = tc.SFrame(ratings_train)\n",
    "ratings_test = tc.SFrame(ratings_test)"
   ]
  },
  {
   "cell_type": "code",
   "execution_count": 10,
   "metadata": {
    "scrolled": true
   },
   "outputs": [
    {
     "data": {
      "text/html": [
       "<pre>Recsys training: model = popularity</pre>"
      ],
      "text/plain": [
       "Recsys training: model = popularity"
      ]
     },
     "metadata": {},
     "output_type": "display_data"
    },
    {
     "data": {
      "text/html": [
       "<pre>Warning: Ignoring columns unix_timestamp;</pre>"
      ],
      "text/plain": [
       "Warning: Ignoring columns unix_timestamp;"
      ]
     },
     "metadata": {},
     "output_type": "display_data"
    },
    {
     "data": {
      "text/html": [
       "<pre>    To use these columns in scoring predictions, use a model that allows the use of additional features.</pre>"
      ],
      "text/plain": [
       "    To use these columns in scoring predictions, use a model that allows the use of additional features."
      ]
     },
     "metadata": {},
     "output_type": "display_data"
    },
    {
     "data": {
      "text/html": [
       "<pre>Preparing data set.</pre>"
      ],
      "text/plain": [
       "Preparing data set."
      ]
     },
     "metadata": {},
     "output_type": "display_data"
    },
    {
     "data": {
      "text/html": [
       "<pre>    Data has 85000 observations with 943 users and 1653 items.</pre>"
      ],
      "text/plain": [
       "    Data has 85000 observations with 943 users and 1653 items."
      ]
     },
     "metadata": {},
     "output_type": "display_data"
    },
    {
     "data": {
      "text/html": [
       "<pre>    Data prepared in: 0.334914s</pre>"
      ],
      "text/plain": [
       "    Data prepared in: 0.334914s"
      ]
     },
     "metadata": {},
     "output_type": "display_data"
    },
    {
     "data": {
      "text/html": [
       "<pre>85000 observations to process; with 1653 unique items.</pre>"
      ],
      "text/plain": [
       "85000 observations to process; with 1653 unique items."
      ]
     },
     "metadata": {},
     "output_type": "display_data"
    }
   ],
   "source": [
    "# A simple popularity model is trained, which recommends movies based on their popularity\n",
    "# item_id parameter specifies the column name that will be recommended, namely, movie_id\n",
    "popularity_model = tc.popularity_recommender.create(ratings_train, user_id='user_id',\n",
    "                                                            item_id='movie_id', target='rating')"
   ]
  },
  {
   "cell_type": "code",
   "execution_count": 11,
   "metadata": {},
   "outputs": [
    {
     "name": "stdout",
     "output_type": "stream",
     "text": [
      "+---------+----------+-------+------+\n",
      "| user_id | movie_id | score | rank |\n",
      "+---------+----------+-------+------+\n",
      "|    1    |   1189   |  5.0  |  1   |\n",
      "|    1    |   1599   |  5.0  |  2   |\n",
      "|    1    |   1293   |  5.0  |  3   |\n",
      "|    1    |   1643   |  5.0  |  4   |\n",
      "|    1    |   1536   |  5.0  |  5   |\n",
      "|    2    |   1189   |  5.0  |  1   |\n",
      "|    2    |   1599   |  5.0  |  2   |\n",
      "|    2    |   1293   |  5.0  |  3   |\n",
      "|    2    |   1643   |  5.0  |  4   |\n",
      "|    2    |   1536   |  5.0  |  5   |\n",
      "|    3    |   1189   |  5.0  |  1   |\n",
      "|    3    |   1599   |  5.0  |  2   |\n",
      "|    3    |   1293   |  5.0  |  3   |\n",
      "|    3    |   1643   |  5.0  |  4   |\n",
      "|    3    |   1536   |  5.0  |  5   |\n",
      "|    4    |   1189   |  5.0  |  1   |\n",
      "|    4    |   1599   |  5.0  |  2   |\n",
      "|    4    |   1293   |  5.0  |  3   |\n",
      "|    4    |   1643   |  5.0  |  4   |\n",
      "|    4    |   1536   |  5.0  |  5   |\n",
      "|    5    |   1189   |  5.0  |  1   |\n",
      "|    5    |   1599   |  5.0  |  2   |\n",
      "|    5    |   1293   |  5.0  |  3   |\n",
      "|    5    |   1643   |  5.0  |  4   |\n",
      "|    5    |   1536   |  5.0  |  5   |\n",
      "+---------+----------+-------+------+\n",
      "[25 rows x 4 columns]\n",
      "\n"
     ]
    }
   ],
   "source": [
    "# Recommend the top 5 movies to users 1, 2, 3, 4, 5\n",
    "popularity_recomm = popularity_model.recommend(users=[1,2,3,4,5],k=5)\n",
    "popularity_recomm.print_rows(num_rows=25)"
   ]
  },
  {
   "cell_type": "code",
   "execution_count": 12,
   "metadata": {},
   "outputs": [
    {
     "data": {
      "text/html": [
       "<pre>Recsys training: model = ranking_factorization_recommender</pre>"
      ],
      "text/plain": [
       "Recsys training: model = ranking_factorization_recommender"
      ]
     },
     "metadata": {},
     "output_type": "display_data"
    },
    {
     "data": {
      "text/html": [
       "<pre>Preparing data set.</pre>"
      ],
      "text/plain": [
       "Preparing data set."
      ]
     },
     "metadata": {},
     "output_type": "display_data"
    },
    {
     "data": {
      "text/html": [
       "<pre>    Data has 85000 observations with 943 users and 1653 items.</pre>"
      ],
      "text/plain": [
       "    Data has 85000 observations with 943 users and 1653 items."
      ]
     },
     "metadata": {},
     "output_type": "display_data"
    },
    {
     "data": {
      "text/html": [
       "<pre>    Data prepared in: 0.240837s</pre>"
      ],
      "text/plain": [
       "    Data prepared in: 0.240837s"
      ]
     },
     "metadata": {},
     "output_type": "display_data"
    },
    {
     "data": {
      "text/html": [
       "<pre>Training ranking_factorization_recommender for recommendations.</pre>"
      ],
      "text/plain": [
       "Training ranking_factorization_recommender for recommendations."
      ]
     },
     "metadata": {},
     "output_type": "display_data"
    },
    {
     "data": {
      "text/html": [
       "<pre>+--------------------------------+--------------------------------------------------+----------+</pre>"
      ],
      "text/plain": [
       "+--------------------------------+--------------------------------------------------+----------+"
      ]
     },
     "metadata": {},
     "output_type": "display_data"
    },
    {
     "data": {
      "text/html": [
       "<pre>| Parameter                      | Description                                      | Value    |</pre>"
      ],
      "text/plain": [
       "| Parameter                      | Description                                      | Value    |"
      ]
     },
     "metadata": {},
     "output_type": "display_data"
    },
    {
     "data": {
      "text/html": [
       "<pre>+--------------------------------+--------------------------------------------------+----------+</pre>"
      ],
      "text/plain": [
       "+--------------------------------+--------------------------------------------------+----------+"
      ]
     },
     "metadata": {},
     "output_type": "display_data"
    },
    {
     "data": {
      "text/html": [
       "<pre>| num_factors                    | Factor Dimension                                 | 32       |</pre>"
      ],
      "text/plain": [
       "| num_factors                    | Factor Dimension                                 | 32       |"
      ]
     },
     "metadata": {},
     "output_type": "display_data"
    },
    {
     "data": {
      "text/html": [
       "<pre>| regularization                 | L2 Regularization on Factors                     | 1e-09    |</pre>"
      ],
      "text/plain": [
       "| regularization                 | L2 Regularization on Factors                     | 1e-09    |"
      ]
     },
     "metadata": {},
     "output_type": "display_data"
    },
    {
     "data": {
      "text/html": [
       "<pre>| solver                         | Solver used for training                         | adagrad  |</pre>"
      ],
      "text/plain": [
       "| solver                         | Solver used for training                         | adagrad  |"
      ]
     },
     "metadata": {},
     "output_type": "display_data"
    },
    {
     "data": {
      "text/html": [
       "<pre>| linear_regularization          | L2 Regularization on Linear Coefficients         | 1e-09    |</pre>"
      ],
      "text/plain": [
       "| linear_regularization          | L2 Regularization on Linear Coefficients         | 1e-09    |"
      ]
     },
     "metadata": {},
     "output_type": "display_data"
    },
    {
     "data": {
      "text/html": [
       "<pre>| ranking_regularization         | Rank-based Regularization Weight                 | 0.25     |</pre>"
      ],
      "text/plain": [
       "| ranking_regularization         | Rank-based Regularization Weight                 | 0.25     |"
      ]
     },
     "metadata": {},
     "output_type": "display_data"
    },
    {
     "data": {
      "text/html": [
       "<pre>| max_iterations                 | Maximum Number of Iterations                     | 25       |</pre>"
      ],
      "text/plain": [
       "| max_iterations                 | Maximum Number of Iterations                     | 25       |"
      ]
     },
     "metadata": {},
     "output_type": "display_data"
    },
    {
     "data": {
      "text/html": [
       "<pre>+--------------------------------+--------------------------------------------------+----------+</pre>"
      ],
      "text/plain": [
       "+--------------------------------+--------------------------------------------------+----------+"
      ]
     },
     "metadata": {},
     "output_type": "display_data"
    },
    {
     "data": {
      "text/html": [
       "<pre>  Optimizing model using SGD; tuning step size.</pre>"
      ],
      "text/plain": [
       "  Optimizing model using SGD; tuning step size."
      ]
     },
     "metadata": {},
     "output_type": "display_data"
    },
    {
     "data": {
      "text/html": [
       "<pre>  Using 10625 / 85000 points for tuning the step size.</pre>"
      ],
      "text/plain": [
       "  Using 10625 / 85000 points for tuning the step size."
      ]
     },
     "metadata": {},
     "output_type": "display_data"
    },
    {
     "data": {
      "text/html": [
       "<pre>+---------+-------------------+------------------------------------------+</pre>"
      ],
      "text/plain": [
       "+---------+-------------------+------------------------------------------+"
      ]
     },
     "metadata": {},
     "output_type": "display_data"
    },
    {
     "data": {
      "text/html": [
       "<pre>| Attempt | Initial Step Size | Estimated Objective Value                |</pre>"
      ],
      "text/plain": [
       "| Attempt | Initial Step Size | Estimated Objective Value                |"
      ]
     },
     "metadata": {},
     "output_type": "display_data"
    },
    {
     "data": {
      "text/html": [
       "<pre>+---------+-------------------+------------------------------------------+</pre>"
      ],
      "text/plain": [
       "+---------+-------------------+------------------------------------------+"
      ]
     },
     "metadata": {},
     "output_type": "display_data"
    },
    {
     "data": {
      "text/html": [
       "<pre>| 0       | 16.6667           | Not Viable                               |</pre>"
      ],
      "text/plain": [
       "| 0       | 16.6667           | Not Viable                               |"
      ]
     },
     "metadata": {},
     "output_type": "display_data"
    },
    {
     "data": {
      "text/html": [
       "<pre>| 1       | 4.16667           | Not Viable                               |</pre>"
      ],
      "text/plain": [
       "| 1       | 4.16667           | Not Viable                               |"
      ]
     },
     "metadata": {},
     "output_type": "display_data"
    },
    {
     "data": {
      "text/html": [
       "<pre>| 2       | 1.04167           | Not Viable                               |</pre>"
      ],
      "text/plain": [
       "| 2       | 1.04167           | Not Viable                               |"
      ]
     },
     "metadata": {},
     "output_type": "display_data"
    },
    {
     "data": {
      "text/html": [
       "<pre>| 3       | 0.260417          | Not Viable                               |</pre>"
      ],
      "text/plain": [
       "| 3       | 0.260417          | Not Viable                               |"
      ]
     },
     "metadata": {},
     "output_type": "display_data"
    },
    {
     "data": {
      "text/html": [
       "<pre>| 4       | 0.0651042         | 1.8657                                   |</pre>"
      ],
      "text/plain": [
       "| 4       | 0.0651042         | 1.8657                                   |"
      ]
     },
     "metadata": {},
     "output_type": "display_data"
    },
    {
     "data": {
      "text/html": [
       "<pre>| 5       | 0.0325521         | 1.8702                                   |</pre>"
      ],
      "text/plain": [
       "| 5       | 0.0325521         | 1.8702                                   |"
      ]
     },
     "metadata": {},
     "output_type": "display_data"
    },
    {
     "data": {
      "text/html": [
       "<pre>| 6       | 0.016276          | 1.98718                                  |</pre>"
      ],
      "text/plain": [
       "| 6       | 0.016276          | 1.98718                                  |"
      ]
     },
     "metadata": {},
     "output_type": "display_data"
    },
    {
     "data": {
      "text/html": [
       "<pre>| 7       | 0.00813802        | 2.12851                                  |</pre>"
      ],
      "text/plain": [
       "| 7       | 0.00813802        | 2.12851                                  |"
      ]
     },
     "metadata": {},
     "output_type": "display_data"
    },
    {
     "data": {
      "text/html": [
       "<pre>+---------+-------------------+------------------------------------------+</pre>"
      ],
      "text/plain": [
       "+---------+-------------------+------------------------------------------+"
      ]
     },
     "metadata": {},
     "output_type": "display_data"
    },
    {
     "data": {
      "text/html": [
       "<pre>| Final   | 0.0651042         | 1.8657                                   |</pre>"
      ],
      "text/plain": [
       "| Final   | 0.0651042         | 1.8657                                   |"
      ]
     },
     "metadata": {},
     "output_type": "display_data"
    },
    {
     "data": {
      "text/html": [
       "<pre>+---------+-------------------+------------------------------------------+</pre>"
      ],
      "text/plain": [
       "+---------+-------------------+------------------------------------------+"
      ]
     },
     "metadata": {},
     "output_type": "display_data"
    },
    {
     "data": {
      "text/html": [
       "<pre>Starting Optimization.</pre>"
      ],
      "text/plain": [
       "Starting Optimization."
      ]
     },
     "metadata": {},
     "output_type": "display_data"
    },
    {
     "data": {
      "text/html": [
       "<pre>+---------+--------------+-------------------+-----------------------+-------------+</pre>"
      ],
      "text/plain": [
       "+---------+--------------+-------------------+-----------------------+-------------+"
      ]
     },
     "metadata": {},
     "output_type": "display_data"
    },
    {
     "data": {
      "text/html": [
       "<pre>| Iter.   | Elapsed Time | Approx. Objective | Approx. Training RMSE | Step Size   |</pre>"
      ],
      "text/plain": [
       "| Iter.   | Elapsed Time | Approx. Objective | Approx. Training RMSE | Step Size   |"
      ]
     },
     "metadata": {},
     "output_type": "display_data"
    },
    {
     "data": {
      "text/html": [
       "<pre>+---------+--------------+-------------------+-----------------------+-------------+</pre>"
      ],
      "text/plain": [
       "+---------+--------------+-------------------+-----------------------+-------------+"
      ]
     },
     "metadata": {},
     "output_type": "display_data"
    },
    {
     "data": {
      "text/html": [
       "<pre>| Initial | 17.426ms     | 2.48549           | 1.12591               |             |</pre>"
      ],
      "text/plain": [
       "| Initial | 17.426ms     | 2.48549           | 1.12591               |             |"
      ]
     },
     "metadata": {},
     "output_type": "display_data"
    },
    {
     "data": {
      "text/html": [
       "<pre>+---------+--------------+-------------------+-----------------------+-------------+</pre>"
      ],
      "text/plain": [
       "+---------+--------------+-------------------+-----------------------+-------------+"
      ]
     },
     "metadata": {},
     "output_type": "display_data"
    },
    {
     "data": {
      "text/html": [
       "<pre>| 1       | 828.95ms     | 2.12678           | 1.14161               | 0.0651042   |</pre>"
      ],
      "text/plain": [
       "| 1       | 828.95ms     | 2.12678           | 1.14161               | 0.0651042   |"
      ]
     },
     "metadata": {},
     "output_type": "display_data"
    },
    {
     "data": {
      "text/html": [
       "<pre>| 2       | 1.50s        | 1.90197           | 1.06083               | 0.0651042   |</pre>"
      ],
      "text/plain": [
       "| 2       | 1.50s        | 1.90197           | 1.06083               | 0.0651042   |"
      ]
     },
     "metadata": {},
     "output_type": "display_data"
    },
    {
     "data": {
      "text/html": [
       "<pre>| 3       | 2.17s        | 1.81637           | 1.0283                | 0.0651042   |</pre>"
      ],
      "text/plain": [
       "| 3       | 2.17s        | 1.81637           | 1.0283                | 0.0651042   |"
      ]
     },
     "metadata": {},
     "output_type": "display_data"
    },
    {
     "data": {
      "text/html": [
       "<pre>| 4       | 3.06s        | 1.73893           | 1.00472               | 0.0651042   |</pre>"
      ],
      "text/plain": [
       "| 4       | 3.06s        | 1.73893           | 1.00472               | 0.0651042   |"
      ]
     },
     "metadata": {},
     "output_type": "display_data"
    },
    {
     "data": {
      "text/html": [
       "<pre>| 5       | 4.05s        | 1.6847            | 0.987224              | 0.0651042   |</pre>"
      ],
      "text/plain": [
       "| 5       | 4.05s        | 1.6847            | 0.987224              | 0.0651042   |"
      ]
     },
     "metadata": {},
     "output_type": "display_data"
    },
    {
     "data": {
      "text/html": [
       "<pre>| 10      | 7.50s        | 1.54326           | 0.940059              | 0.0651042   |</pre>"
      ],
      "text/plain": [
       "| 10      | 7.50s        | 1.54326           | 0.940059              | 0.0651042   |"
      ]
     },
     "metadata": {},
     "output_type": "display_data"
    },
    {
     "data": {
      "text/html": [
       "<pre>| 15      | 10.17s       | 1.46666           | 0.909931              | 0.0651042   |</pre>"
      ],
      "text/plain": [
       "| 15      | 10.17s       | 1.46666           | 0.909931              | 0.0651042   |"
      ]
     },
     "metadata": {},
     "output_type": "display_data"
    },
    {
     "data": {
      "text/html": [
       "<pre>| 20      | 14.98s       | 1.41824           | 0.883675              | 0.0651042   |</pre>"
      ],
      "text/plain": [
       "| 20      | 14.98s       | 1.41824           | 0.883675              | 0.0651042   |"
      ]
     },
     "metadata": {},
     "output_type": "display_data"
    },
    {
     "data": {
      "text/html": [
       "<pre>| 25      | 19.04s       | 1.43903           | 0.869355              | 0.0651042   |</pre>"
      ],
      "text/plain": [
       "| 25      | 19.04s       | 1.43903           | 0.869355              | 0.0651042   |"
      ]
     },
     "metadata": {},
     "output_type": "display_data"
    },
    {
     "data": {
      "text/html": [
       "<pre>+---------+--------------+-------------------+-----------------------+-------------+</pre>"
      ],
      "text/plain": [
       "+---------+--------------+-------------------+-----------------------+-------------+"
      ]
     },
     "metadata": {},
     "output_type": "display_data"
    },
    {
     "data": {
      "text/html": [
       "<pre>Optimization Complete: Maximum number of passes through the data reached.</pre>"
      ],
      "text/plain": [
       "Optimization Complete: Maximum number of passes through the data reached."
      ]
     },
     "metadata": {},
     "output_type": "display_data"
    },
    {
     "data": {
      "text/html": [
       "<pre>Computing final objective value and training RMSE.</pre>"
      ],
      "text/plain": [
       "Computing final objective value and training RMSE."
      ]
     },
     "metadata": {},
     "output_type": "display_data"
    },
    {
     "data": {
      "text/html": [
       "<pre>       Final objective value: 1.45394</pre>"
      ],
      "text/plain": [
       "       Final objective value: 1.45394"
      ]
     },
     "metadata": {},
     "output_type": "display_data"
    },
    {
     "data": {
      "text/html": [
       "<pre>       Final training RMSE: 0.852866</pre>"
      ],
      "text/plain": [
       "       Final training RMSE: 0.852866"
      ]
     },
     "metadata": {},
     "output_type": "display_data"
    }
   ],
   "source": [
    "# The above was a simple popularity model. Now we will build a collaborative-filtering model.\n",
    "# Ranking factorization recommender trains a model to predict a rating for\n",
    "# each possible combination of users and movies. The internal coefficients of the model are\n",
    "# learned from known ratings of users on movies. Recommendations are then based on these ratings.\n",
    "# Training the model\n",
    "item_sim_model = tc.ranking_factorization_recommender.create(ratings_train, user_id='user_id',\n",
    "                                                             item_id='movie_id', target='rating')"
   ]
  },
  {
   "cell_type": "code",
   "execution_count": 13,
   "metadata": {},
   "outputs": [
    {
     "name": "stdout",
     "output_type": "stream",
     "text": [
      "+---------+----------+--------------------+------+\n",
      "| user_id | movie_id |       score        | rank |\n",
      "+---------+----------+--------------------+------+\n",
      "|    1    |   408    | 4.633140248337915  |  1   |\n",
      "|    1    |   474    | 4.430625391284158  |  2   |\n",
      "|    1    |   919    | 4.391392669731905  |  3   |\n",
      "|    1    |   483    | 4.2822603407298825 |  4   |\n",
      "|    1    |   238    | 4.257882935086419  |  5   |\n",
      "|    2    |   269    | 4.561351833025148  |  1   |\n",
      "|    2    |   258    | 4.416115162054231  |  2   |\n",
      "|    2    |   283    | 4.395786491314103  |  3   |\n",
      "|    2    |   127    | 4.348903534094026  |  4   |\n",
      "|    2    |   124    | 4.308760699907472  |  5   |\n",
      "|    3    |    50    | 4.862409320751359  |  1   |\n",
      "|    3    |   127    | 4.486713168302705  |  2   |\n",
      "|    3    |    98    | 4.334899989048173  |  3   |\n",
      "|    3    |    56    | 4.300042775551011  |  4   |\n",
      "|    3    |   257    | 4.239566472450425  |  5   |\n",
      "|    4    |   302    | 4.755937409678628  |  1   |\n",
      "|    4    |   100    | 4.604095113555124  |  2   |\n",
      "|    4    |   313    | 4.6038982394134305 |  3   |\n",
      "|    4    |   258    | 4.565941047946145  |  4   |\n",
      "|    4    |   127    | 4.564202514568498  |  5   |\n",
      "|    5    |    7     | 4.349293303767373  |  1   |\n",
      "|    5    |   175    |  4.19093973664396  |  2   |\n",
      "|    5    |   408    | 4.190826487818887  |  3   |\n",
      "|    5    |   173    | 4.131918025294473  |  4   |\n",
      "|    5    |    12    | 4.0241669538413785 |  5   |\n",
      "+---------+----------+--------------------+------+\n",
      "[25 rows x 4 columns]\n",
      "\n"
     ]
    }
   ],
   "source": [
    "# Making recommendations\n",
    "item_sim_recomm = item_sim_model.recommend(users=[1,2,3,4,5],k=5)\n",
    "item_sim_recomm.print_rows(num_rows=25)"
   ]
  },
  {
   "cell_type": "code",
   "execution_count": 14,
   "metadata": {},
   "outputs": [
    {
     "data": {
      "text/plain": [
       "{'rmse_by_user': Columns:\n",
       " \tuser_id\tint\n",
       " \trmse\tfloat\n",
       " \tcount\tint\n",
       " \n",
       " Rows: 936\n",
       " \n",
       " Data:\n",
       " +---------+--------------------+-------+\n",
       " | user_id |        rmse        | count |\n",
       " +---------+--------------------+-------+\n",
       " |   747   | 1.2981214691745575 |   45  |\n",
       " |   118   | 1.0451524006516273 |   8   |\n",
       " |   153   | 1.508314253741147  |   2   |\n",
       " |   660   | 1.0182323399319324 |   35  |\n",
       " |    92   | 0.9108288857742471 |   47  |\n",
       " |   264   | 1.3253550391043698 |   19  |\n",
       " |   690   | 0.8469186934862357 |   16  |\n",
       " |   839   | 1.3639768389329134 |   7   |\n",
       " |   837   | 1.0468211086952406 |   6   |\n",
       " |   208   | 1.0593900404122296 |   1   |\n",
       " +---------+--------------------+-------+\n",
       " [936 rows x 3 columns]\n",
       " Note: Only the head of the SFrame is printed.\n",
       " You can use print_rows(num_rows=m, num_columns=n) to print more rows and columns.,\n",
       " 'rmse_by_item': Columns:\n",
       " \tmovie_id\tint\n",
       " \trmse\tfloat\n",
       " \tcount\tint\n",
       " \n",
       " Rows: 1366\n",
       " \n",
       " Data:\n",
       " +----------+---------------------+-------+\n",
       " | movie_id |         rmse        | count |\n",
       " +----------+---------------------+-------+\n",
       " |   973    |  0.8836474840855688 |   1   |\n",
       " |   1270   |  0.8200935647819125 |   2   |\n",
       " |   1611   |  0.3223828077892839 |   2   |\n",
       " |   747    |  0.8211008559973578 |   20  |\n",
       " |   118    |  0.958870429970247  |   44  |\n",
       " |   153    |  1.051357770442147  |   35  |\n",
       " |   660    |  0.863244055470406  |   30  |\n",
       " |   1236   | 0.14044750002808737 |   1   |\n",
       " |    92    |  1.2084345090230597 |   17  |\n",
       " |   1657   |  0.6132284969121984 |   1   |\n",
       " +----------+---------------------+-------+\n",
       " [1366 rows x 3 columns]\n",
       " Note: Only the head of the SFrame is printed.\n",
       " You can use print_rows(num_rows=m, num_columns=n) to print more rows and columns.,\n",
       " 'rmse_overall': 1.0156485870814331}"
      ]
     },
     "execution_count": 14,
     "metadata": {},
     "output_type": "execute_result"
    }
   ],
   "source": [
    "# Evaluate RMSE (Root Mean Square Error), the lower it is, the better. A lower score means the actual data points\n",
    "# are closer to the regression line (therefore the regression line's predicted value is closer to the actual value)\n",
    "# For visual explanation refer to:\n",
    "# https://www.khanacademy.org/math/ap-statistics/bivariate-data-ap/assessing-fit-least-squares-regression/v/standard-dev-residuals\n",
    "item_sim_model.evaluate_rmse(ratings_test, target='rating')\n",
    "# For this model, on the testing data, the RMSE is ~1.01, which is not too bad. It is also quite close to\n",
    "# the RMSE of the model on the training data, which is ~0.85."
   ]
  },
  {
   "cell_type": "code",
   "execution_count": null,
   "metadata": {},
   "outputs": [],
   "source": []
  }
 ],
 "metadata": {
  "kernelspec": {
   "display_name": "Python 3",
   "language": "python",
   "name": "python3"
  },
  "language_info": {
   "codemirror_mode": {
    "name": "ipython",
    "version": 3
   },
   "file_extension": ".py",
   "mimetype": "text/x-python",
   "name": "python",
   "nbconvert_exporter": "python",
   "pygments_lexer": "ipython3",
   "version": "3.6.5"
  }
 },
 "nbformat": 4,
 "nbformat_minor": 2
}
